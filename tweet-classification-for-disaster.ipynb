{
 "cells": [
  {
   "cell_type": "markdown",
   "id": "022975d5",
   "metadata": {
    "_cell_guid": "b1076dfc-b9ad-4769-8c92-a6c4dae69d19",
    "_uuid": "8f2839f25d086af736a60e9eeb907d3b93b6e0e5",
    "papermill": {
     "duration": 0.01494,
     "end_time": "2024-06-17T06:01:41.495513",
     "exception": false,
     "start_time": "2024-06-17T06:01:41.480573",
     "status": "completed"
    },
    "tags": []
   },
   "source": [
    "# **Week 4 assignment**\n",
    "\n",
    "The project \"Extracting the Kaggle dataset - nlp-getting-started'\" is done as a part of week 4 assignment. The project involves analyzing tweets to find if a given tweet is a disater or not.  The regular NLP programs are good for analyzing textual data but they lack context. Using RNN that retains context,  Long Short-Term Memory Networks (LSTM) are a special form of RNNs are especially powerful when it comes to finding the right features when the chain of input-chunks becomes longer as in our tweets.\n",
    "\n",
    "After performing some Exploratory Data Analysis like checking number of tweets, count of disaster and non-disaster tweets, spread of tweets by location, I attempted to clean the dataset by removing empty values, preprocessing the text to remove URLs, stemming, lowering all the texts and keeping only textual data.\n",
    "\n",
    "Once the cleaning was performed, I converted every tweet into a vector. The method used is the One-Hot Encoding. Here, every word is represented by a vector of n binary sub-vectors, where n is the number of different chars in the alphabet (26 using the English alphabet). I initialized the vocabulary size to 20,000 to have a richer vocabulary to begin with. \n",
    "A 'pre' padding, equal to the length of largest size tweet, was applied to the encoded data to create equal size input for the model training.\n",
    "\n",
    "Next, I created a training model that comprises of an Embedding layer which was initialized with chosen vocabulary size of 20,000, embedding_vector_features and input length. Next layer was LSTM that was initialized with chosen neurons. A dropout layer was added next. Finally a Dense layer with binary classification and Sigmoid activation to generate binary result was created.\n",
    "\n",
    "With Adam optimizer, Binary CrossEntropy loss and Accuracy metrics the model was compiled and ran for various epochs using an EarlyStopping callback.\n",
    "\n",
    "This allowed me to obtain an accuracy of 76%. This result was obtained after tweaking various hyperparameters with different values ex - embedding_vector_features values, input neurons for LSTM layer, Adam learning rates, and dropout percentages.\n",
    "\n",
    "Finally the model was run against the test dataset and a result was generated that was combined with the tweet to submit the output."
   ]
  },
  {
   "cell_type": "code",
   "execution_count": 1,
   "id": "863d9cee",
   "metadata": {
    "execution": {
     "iopub.execute_input": "2024-06-17T06:01:41.526582Z",
     "iopub.status.busy": "2024-06-17T06:01:41.525478Z",
     "iopub.status.idle": "2024-06-17T06:01:59.792043Z",
     "shell.execute_reply": "2024-06-17T06:01:59.790984Z"
    },
    "papermill": {
     "duration": 18.284806,
     "end_time": "2024-06-17T06:01:59.794720",
     "exception": false,
     "start_time": "2024-06-17T06:01:41.509914",
     "status": "completed"
    },
    "tags": []
   },
   "outputs": [
    {
     "name": "stderr",
     "output_type": "stream",
     "text": [
      "2024-06-17 06:01:47.456698: E external/local_xla/xla/stream_executor/cuda/cuda_dnn.cc:9261] Unable to register cuDNN factory: Attempting to register factory for plugin cuDNN when one has already been registered\n",
      "2024-06-17 06:01:47.456884: E external/local_xla/xla/stream_executor/cuda/cuda_fft.cc:607] Unable to register cuFFT factory: Attempting to register factory for plugin cuFFT when one has already been registered\n",
      "2024-06-17 06:01:47.630252: E external/local_xla/xla/stream_executor/cuda/cuda_blas.cc:1515] Unable to register cuBLAS factory: Attempting to register factory for plugin cuBLAS when one has already been registered\n"
     ]
    }
   ],
   "source": [
    "#import libraries & packages\n",
    "import pandas as pd\n",
    "import numpy as np\n",
    "\n",
    "from matplotlib import pyplot as plt\n",
    "import seaborn as sns\n",
    "import nltk\n",
    "import re\n",
    "from nltk.corpus import stopwords\n",
    "from nltk.stem.porter import PorterStemmer\n",
    "\n",
    "import tensorflow as tf\n",
    "from tensorflow.keras.layers import Embedding\n",
    "from tensorflow.keras.preprocessing.sequence import pad_sequences\n",
    "from tensorflow.keras.models import Sequential\n",
    "from tensorflow.keras.preprocessing.text import one_hot\n",
    "from tensorflow.keras.layers import LSTM\n",
    "from tensorflow.keras.layers import Dense\n",
    "from tensorflow.keras.layers import Dropout\n",
    "from tensorflow.keras.callbacks import EarlyStopping\n",
    "from tensorflow.keras.optimizers  import Adam\n",
    "\n",
    "from sklearn.model_selection import train_test_split\n",
    "from sklearn.metrics import confusion_matrix\n",
    "from sklearn.metrics import accuracy_score"
   ]
  },
  {
   "cell_type": "code",
   "execution_count": 2,
   "id": "dcf0d2e1",
   "metadata": {
    "execution": {
     "iopub.execute_input": "2024-06-17T06:01:59.824816Z",
     "iopub.status.busy": "2024-06-17T06:01:59.824081Z",
     "iopub.status.idle": "2024-06-17T06:01:59.894966Z",
     "shell.execute_reply": "2024-06-17T06:01:59.893654Z"
    },
    "papermill": {
     "duration": 0.089177,
     "end_time": "2024-06-17T06:01:59.897915",
     "exception": false,
     "start_time": "2024-06-17T06:01:59.808738",
     "status": "completed"
    },
    "tags": []
   },
   "outputs": [],
   "source": [
    "# load the training dataset\n",
    "WORKING_DIR = '/kaggle/input/nlp-getting-started'\n",
    "df = pd.read_csv(WORKING_DIR + \"/train.csv\")\n",
    "test_df = pd.read_csv(WORKING_DIR + \"/test.csv\")"
   ]
  },
  {
   "cell_type": "markdown",
   "id": "208d5fb0",
   "metadata": {
    "papermill": {
     "duration": 0.013644,
     "end_time": "2024-06-17T06:01:59.925793",
     "exception": false,
     "start_time": "2024-06-17T06:01:59.912149",
     "status": "completed"
    },
    "tags": []
   },
   "source": [
    "# **Exploratory Data Analysis**\n",
    "- involves verifying the dataset dimension\n",
    "- checking the columns\n",
    "- inspecting some records using head()\n",
    "- removing rows null columns values\n",
    "- checking the number of records in training dataset that belongs to each class - a plot for verifying the lenght of tweets grouped by class\n",
    "- a plot for grouping tweets by locations\n",
    "\n",
    "Finally the data was preprocessed to only keep alphabets and remove URLs from each tweet"
   ]
  },
  {
   "cell_type": "code",
   "execution_count": 3,
   "id": "bfb2aaf2",
   "metadata": {
    "execution": {
     "iopub.execute_input": "2024-06-17T06:01:59.956809Z",
     "iopub.status.busy": "2024-06-17T06:01:59.956372Z",
     "iopub.status.idle": "2024-06-17T06:01:59.965034Z",
     "shell.execute_reply": "2024-06-17T06:01:59.963669Z"
    },
    "papermill": {
     "duration": 0.026299,
     "end_time": "2024-06-17T06:01:59.967372",
     "exception": false,
     "start_time": "2024-06-17T06:01:59.941073",
     "status": "completed"
    },
    "tags": []
   },
   "outputs": [
    {
     "data": {
      "text/plain": [
       "(7613, 5)"
      ]
     },
     "execution_count": 3,
     "metadata": {},
     "output_type": "execute_result"
    }
   ],
   "source": [
    "# retrieve the dataset dimensions\n",
    "df.shape"
   ]
  },
  {
   "cell_type": "code",
   "execution_count": 4,
   "id": "574444e7",
   "metadata": {
    "execution": {
     "iopub.execute_input": "2024-06-17T06:01:59.997068Z",
     "iopub.status.busy": "2024-06-17T06:01:59.996630Z",
     "iopub.status.idle": "2024-06-17T06:02:00.005060Z",
     "shell.execute_reply": "2024-06-17T06:02:00.003848Z"
    },
    "papermill": {
     "duration": 0.026559,
     "end_time": "2024-06-17T06:02:00.007915",
     "exception": false,
     "start_time": "2024-06-17T06:01:59.981356",
     "status": "completed"
    },
    "tags": []
   },
   "outputs": [
    {
     "data": {
      "text/plain": [
       "Index(['id', 'keyword', 'location', 'text', 'target'], dtype='object')"
      ]
     },
     "execution_count": 4,
     "metadata": {},
     "output_type": "execute_result"
    }
   ],
   "source": [
    "# retrieve the columns\n",
    "df.columns"
   ]
  },
  {
   "cell_type": "code",
   "execution_count": 5,
   "id": "3f73e6ac",
   "metadata": {
    "execution": {
     "iopub.execute_input": "2024-06-17T06:02:00.038827Z",
     "iopub.status.busy": "2024-06-17T06:02:00.038407Z",
     "iopub.status.idle": "2024-06-17T06:02:00.059930Z",
     "shell.execute_reply": "2024-06-17T06:02:00.058843Z"
    },
    "papermill": {
     "duration": 0.039993,
     "end_time": "2024-06-17T06:02:00.062718",
     "exception": false,
     "start_time": "2024-06-17T06:02:00.022725",
     "status": "completed"
    },
    "tags": []
   },
   "outputs": [
    {
     "data": {
      "text/html": [
       "<div>\n",
       "<style scoped>\n",
       "    .dataframe tbody tr th:only-of-type {\n",
       "        vertical-align: middle;\n",
       "    }\n",
       "\n",
       "    .dataframe tbody tr th {\n",
       "        vertical-align: top;\n",
       "    }\n",
       "\n",
       "    .dataframe thead th {\n",
       "        text-align: right;\n",
       "    }\n",
       "</style>\n",
       "<table border=\"1\" class=\"dataframe\">\n",
       "  <thead>\n",
       "    <tr style=\"text-align: right;\">\n",
       "      <th></th>\n",
       "      <th>id</th>\n",
       "      <th>keyword</th>\n",
       "      <th>location</th>\n",
       "      <th>text</th>\n",
       "      <th>target</th>\n",
       "    </tr>\n",
       "  </thead>\n",
       "  <tbody>\n",
       "    <tr>\n",
       "      <th>0</th>\n",
       "      <td>1</td>\n",
       "      <td>NaN</td>\n",
       "      <td>NaN</td>\n",
       "      <td>Our Deeds are the Reason of this #earthquake M...</td>\n",
       "      <td>1</td>\n",
       "    </tr>\n",
       "    <tr>\n",
       "      <th>1</th>\n",
       "      <td>4</td>\n",
       "      <td>NaN</td>\n",
       "      <td>NaN</td>\n",
       "      <td>Forest fire near La Ronge Sask. Canada</td>\n",
       "      <td>1</td>\n",
       "    </tr>\n",
       "    <tr>\n",
       "      <th>2</th>\n",
       "      <td>5</td>\n",
       "      <td>NaN</td>\n",
       "      <td>NaN</td>\n",
       "      <td>All residents asked to 'shelter in place' are ...</td>\n",
       "      <td>1</td>\n",
       "    </tr>\n",
       "    <tr>\n",
       "      <th>3</th>\n",
       "      <td>6</td>\n",
       "      <td>NaN</td>\n",
       "      <td>NaN</td>\n",
       "      <td>13,000 people receive #wildfires evacuation or...</td>\n",
       "      <td>1</td>\n",
       "    </tr>\n",
       "    <tr>\n",
       "      <th>4</th>\n",
       "      <td>7</td>\n",
       "      <td>NaN</td>\n",
       "      <td>NaN</td>\n",
       "      <td>Just got sent this photo from Ruby #Alaska as ...</td>\n",
       "      <td>1</td>\n",
       "    </tr>\n",
       "  </tbody>\n",
       "</table>\n",
       "</div>"
      ],
      "text/plain": [
       "   id keyword location                                               text  \\\n",
       "0   1     NaN      NaN  Our Deeds are the Reason of this #earthquake M...   \n",
       "1   4     NaN      NaN             Forest fire near La Ronge Sask. Canada   \n",
       "2   5     NaN      NaN  All residents asked to 'shelter in place' are ...   \n",
       "3   6     NaN      NaN  13,000 people receive #wildfires evacuation or...   \n",
       "4   7     NaN      NaN  Just got sent this photo from Ruby #Alaska as ...   \n",
       "\n",
       "   target  \n",
       "0       1  \n",
       "1       1  \n",
       "2       1  \n",
       "3       1  \n",
       "4       1  "
      ]
     },
     "execution_count": 5,
     "metadata": {},
     "output_type": "execute_result"
    }
   ],
   "source": [
    "# inspect top 5 rows\n",
    "df.head()"
   ]
  },
  {
   "cell_type": "code",
   "execution_count": 6,
   "id": "402161a9",
   "metadata": {
    "execution": {
     "iopub.execute_input": "2024-06-17T06:02:00.094862Z",
     "iopub.status.busy": "2024-06-17T06:02:00.094391Z",
     "iopub.status.idle": "2024-06-17T06:02:00.298736Z",
     "shell.execute_reply": "2024-06-17T06:02:00.296642Z"
    },
    "papermill": {
     "duration": 0.228446,
     "end_time": "2024-06-17T06:02:00.305949",
     "exception": false,
     "start_time": "2024-06-17T06:02:00.077503",
     "status": "completed"
    },
    "tags": []
   },
   "outputs": [
    {
     "data": {
      "text/plain": [
       "<Axes: ylabel='count'>"
      ]
     },
     "execution_count": 6,
     "metadata": {},
     "output_type": "execute_result"
    },
    {
     "data": {
      "image/png": "[encoded data removed]",
      "text/plain": [
       "<Figure size 640x480 with 1 Axes>"
      ]
     },
     "metadata": {},
     "output_type": "display_data"
    }
   ],
   "source": [
    "# draw chart to show split between disaster & non-disaster tweet in the training dataset\n",
    "df['target'].value_counts(dropna=False).plot(kind=\"pie\")"
   ]
  },
  {
   "cell_type": "code",
   "execution_count": 7,
   "id": "f146e207",
   "metadata": {
    "execution": {
     "iopub.execute_input": "2024-06-17T06:02:00.366762Z",
     "iopub.status.busy": "2024-06-17T06:02:00.366336Z",
     "iopub.status.idle": "2024-06-17T06:02:00.857070Z",
     "shell.execute_reply": "2024-06-17T06:02:00.855926Z"
    },
    "papermill": {
     "duration": 0.52158,
     "end_time": "2024-06-17T06:02:00.859551",
     "exception": false,
     "start_time": "2024-06-17T06:02:00.337971",
     "status": "completed"
    },
    "tags": []
   },
   "outputs": [
    {
     "name": "stderr",
     "output_type": "stream",
     "text": [
      "/opt/conda/lib/python3.10/site-packages/seaborn/_oldcore.py:1119: FutureWarning: use_inf_as_na option is deprecated and will be removed in a future version. Convert inf values to NaN before operating instead.\n",
      "  with pd.option_context('mode.use_inf_as_na', True):\n",
      "/opt/conda/lib/python3.10/site-packages/seaborn/_oldcore.py:1075: FutureWarning: When grouping with a length-1 list-like, you will need to pass a length-1 tuple to get_group in a future version of pandas. Pass `(name,)` instead of `name` to silence this warning.\n",
      "  data_subset = grouped_data.get_group(pd_key)\n",
      "/opt/conda/lib/python3.10/site-packages/seaborn/_oldcore.py:1075: FutureWarning: When grouping with a length-1 list-like, you will need to pass a length-1 tuple to get_group in a future version of pandas. Pass `(name,)` instead of `name` to silence this warning.\n",
      "  data_subset = grouped_data.get_group(pd_key)\n",
      "/opt/conda/lib/python3.10/site-packages/seaborn/_oldcore.py:1075: FutureWarning: When grouping with a length-1 list-like, you will need to pass a length-1 tuple to get_group in a future version of pandas. Pass `(name,)` instead of `name` to silence this warning.\n",
      "  data_subset = grouped_data.get_group(pd_key)\n"
     ]
    },
    {
     "data": {
      "image/png": "[encoded data removed]",
      "text/plain": [
       "<Figure size 1200x600 with 1 Axes>"
      ]
     },
     "metadata": {},
     "output_type": "display_data"
    }
   ],
   "source": [
    "# Calculate the length of each tweet. \n",
    "df['length'] = df['text'].apply(len)\n",
    "\n",
    "custom_palette = {0: \"green\", 1: \"blue\"}\n",
    "plt.figure(figsize=(12, 6))\n",
    "sns.histplot(data=df, x='length', hue='target', bins=30)\n",
    "plt.title('Tweet Length By Text')\n",
    "plt.xlabel('Tweet Length')\n",
    "plt.ylabel('Frequency')\n",
    "plt.show()"
   ]
  },
  {
   "cell_type": "code",
   "execution_count": 8,
   "id": "9c47184e",
   "metadata": {
    "execution": {
     "iopub.execute_input": "2024-06-17T06:02:00.892810Z",
     "iopub.status.busy": "2024-06-17T06:02:00.892360Z",
     "iopub.status.idle": "2024-06-17T06:02:01.220071Z",
     "shell.execute_reply": "2024-06-17T06:02:01.218844Z"
    },
    "papermill": {
     "duration": 0.34767,
     "end_time": "2024-06-17T06:02:01.222815",
     "exception": false,
     "start_time": "2024-06-17T06:02:00.875145",
     "status": "completed"
    },
    "tags": []
   },
   "outputs": [
    {
     "data": {
      "image/png": "[encoded data removed]",
      "text/plain": [
       "<Figure size 640x480 with 1 Axes>"
      ]
     },
     "metadata": {},
     "output_type": "display_data"
    }
   ],
   "source": [
    "# Drar chart for top 10 tweets by locations.\n",
    "top_locations = df['location'].value_counts().head(10)\n",
    "sns.barplot( x=top_locations.values, y=top_locations.index)\n",
    "plt.title('Tweets by top 10 locations')\n",
    "plt.xlabel('Num Tweets')\n",
    "plt.ylabel('Location')\n",
    "plt.show()"
   ]
  },
  {
   "cell_type": "code",
   "execution_count": 9,
   "id": "3401ea8d",
   "metadata": {
    "execution": {
     "iopub.execute_input": "2024-06-17T06:02:01.257168Z",
     "iopub.status.busy": "2024-06-17T06:02:01.256678Z",
     "iopub.status.idle": "2024-06-17T06:02:01.273710Z",
     "shell.execute_reply": "2024-06-17T06:02:01.272537Z"
    },
    "papermill": {
     "duration": 0.037396,
     "end_time": "2024-06-17T06:02:01.276540",
     "exception": false,
     "start_time": "2024-06-17T06:02:01.239144",
     "status": "completed"
    },
    "tags": []
   },
   "outputs": [
    {
     "data": {
      "text/plain": [
       "(7613, 6)"
      ]
     },
     "execution_count": 9,
     "metadata": {},
     "output_type": "execute_result"
    }
   ],
   "source": [
    "# remove missing columns from text or target dataset\n",
    "df = df.dropna(subset=['text', 'target'], thresh=1)\n",
    "df.shape"
   ]
  },
  {
   "cell_type": "code",
   "execution_count": 10,
   "id": "ebf07b4b",
   "metadata": {
    "execution": {
     "iopub.execute_input": "2024-06-17T06:02:01.311600Z",
     "iopub.status.busy": "2024-06-17T06:02:01.311187Z",
     "iopub.status.idle": "2024-06-17T06:02:01.317032Z",
     "shell.execute_reply": "2024-06-17T06:02:01.315752Z"
    },
    "papermill": {
     "duration": 0.026832,
     "end_time": "2024-06-17T06:02:01.319878",
     "exception": false,
     "start_time": "2024-06-17T06:02:01.293046",
     "status": "completed"
    },
    "tags": []
   },
   "outputs": [],
   "source": [
    "# create feature and target datasets\n",
    "X = df['text']\n",
    "y = df['target']"
   ]
  },
  {
   "cell_type": "code",
   "execution_count": 11,
   "id": "d1008a25",
   "metadata": {
    "execution": {
     "iopub.execute_input": "2024-06-17T06:02:01.355325Z",
     "iopub.status.busy": "2024-06-17T06:02:01.354912Z",
     "iopub.status.idle": "2024-06-17T06:02:01.362353Z",
     "shell.execute_reply": "2024-06-17T06:02:01.361089Z"
    },
    "papermill": {
     "duration": 0.028589,
     "end_time": "2024-06-17T06:02:01.365079",
     "exception": false,
     "start_time": "2024-06-17T06:02:01.336490",
     "status": "completed"
    },
    "tags": []
   },
   "outputs": [
    {
     "data": {
      "text/plain": [
       "((7613,), (7613,))"
      ]
     },
     "execution_count": 11,
     "metadata": {},
     "output_type": "execute_result"
    }
   ],
   "source": [
    "# retrieve the feature and target dataset dimensions \n",
    "(X.shape,y.shape)"
   ]
  },
  {
   "cell_type": "code",
   "execution_count": 12,
   "id": "f6c9622c",
   "metadata": {
    "execution": {
     "iopub.execute_input": "2024-06-17T06:02:01.399659Z",
     "iopub.status.busy": "2024-06-17T06:02:01.399270Z",
     "iopub.status.idle": "2024-06-17T06:02:01.405432Z",
     "shell.execute_reply": "2024-06-17T06:02:01.404148Z"
    },
    "papermill": {
     "duration": 0.026504,
     "end_time": "2024-06-17T06:02:01.407820",
     "exception": false,
     "start_time": "2024-06-17T06:02:01.381316",
     "status": "completed"
    },
    "tags": []
   },
   "outputs": [],
   "source": [
    "# copy the feature into another dataset for processing\n",
    "messages  = X.copy()"
   ]
  },
  {
   "cell_type": "code",
   "execution_count": 13,
   "id": "89f72b7d",
   "metadata": {
    "execution": {
     "iopub.execute_input": "2024-06-17T06:02:01.442841Z",
     "iopub.status.busy": "2024-06-17T06:02:01.441690Z",
     "iopub.status.idle": "2024-06-17T06:02:21.489001Z",
     "shell.execute_reply": "2024-06-17T06:02:21.487647Z"
    },
    "papermill": {
     "duration": 20.067331,
     "end_time": "2024-06-17T06:02:21.491437",
     "exception": false,
     "start_time": "2024-06-17T06:02:01.424106",
     "status": "completed"
    },
    "tags": []
   },
   "outputs": [
    {
     "name": "stdout",
     "output_type": "stream",
     "text": [
      "[nltk_data] Error loading stopwords: <urlopen error [Errno -3]\n",
      "[nltk_data]     Temporary failure in name resolution>\n"
     ]
    },
    {
     "data": {
      "text/plain": [
       "False"
      ]
     },
     "execution_count": 13,
     "metadata": {},
     "output_type": "execute_result"
    }
   ],
   "source": [
    "# download stopwords from nltk\n",
    "nltk.download('stopwords')"
   ]
  },
  {
   "cell_type": "code",
   "execution_count": 14,
   "id": "27a4fdd1",
   "metadata": {
    "execution": {
     "iopub.execute_input": "2024-06-17T06:02:21.526880Z",
     "iopub.status.busy": "2024-06-17T06:02:21.526382Z",
     "iopub.status.idle": "2024-06-17T06:02:21.532681Z",
     "shell.execute_reply": "2024-06-17T06:02:21.531481Z"
    },
    "papermill": {
     "duration": 0.026652,
     "end_time": "2024-06-17T06:02:21.535161",
     "exception": false,
     "start_time": "2024-06-17T06:02:21.508509",
     "status": "completed"
    },
    "tags": []
   },
   "outputs": [],
   "source": [
    "# routine for pre-processing\n",
    "def preprocess_data(text):\n",
    "    text = text.lower()\n",
    "    text = re.sub(r'http\\S+|www\\S+|https\\S+', '',text)     # Delete URL\n",
    "    text = re.sub('[^a-zA-Z]',' ',text)\n",
    "    return text"
   ]
  },
  {
   "cell_type": "code",
   "execution_count": 15,
   "id": "2a4878bf",
   "metadata": {
    "execution": {
     "iopub.execute_input": "2024-06-17T06:02:21.570006Z",
     "iopub.status.busy": "2024-06-17T06:02:21.569578Z",
     "iopub.status.idle": "2024-06-17T06:02:21.577295Z",
     "shell.execute_reply": "2024-06-17T06:02:21.576036Z"
    },
    "papermill": {
     "duration": 0.02835,
     "end_time": "2024-06-17T06:02:21.579970",
     "exception": false,
     "start_time": "2024-06-17T06:02:21.551620",
     "status": "completed"
    },
    "tags": []
   },
   "outputs": [],
   "source": [
    "ps = PorterStemmer()\n",
    "# routing for creating corpus. This function pre-processes each tweet and removes non-english words.\n",
    "# creates an array of stems in a message and returns all the data as a corpus.\n",
    "def create_corpus(data):\n",
    "  corpus = []\n",
    "  for i in range(0,len(data)):\n",
    "    text = preprocess_data(data[i])\n",
    "    text = text.split()\n",
    "    text = [ps.stem(word) for word in text if not word in stopwords.words('english')]\n",
    "    text = ' '.join(text)\n",
    "    corpus.append(text)\n",
    "  return corpus"
   ]
  },
  {
   "cell_type": "code",
   "execution_count": 16,
   "id": "659bb227",
   "metadata": {
    "execution": {
     "iopub.execute_input": "2024-06-17T06:02:21.615298Z",
     "iopub.status.busy": "2024-06-17T06:02:21.614519Z",
     "iopub.status.idle": "2024-06-17T06:02:21.619712Z",
     "shell.execute_reply": "2024-06-17T06:02:21.618312Z"
    },
    "papermill": {
     "duration": 0.02586,
     "end_time": "2024-06-17T06:02:21.622253",
     "exception": false,
     "start_time": "2024-06-17T06:02:21.596393",
     "status": "completed"
    },
    "tags": []
   },
   "outputs": [],
   "source": [
    "# select the vocabulary size  \n",
    "vocabulary_size = 20000"
   ]
  },
  {
   "cell_type": "code",
   "execution_count": 17,
   "id": "9aeec754",
   "metadata": {
    "execution": {
     "iopub.execute_input": "2024-06-17T06:02:21.657389Z",
     "iopub.status.busy": "2024-06-17T06:02:21.656983Z",
     "iopub.status.idle": "2024-06-17T06:02:21.662803Z",
     "shell.execute_reply": "2024-06-17T06:02:21.661606Z"
    },
    "papermill": {
     "duration": 0.026288,
     "end_time": "2024-06-17T06:02:21.665200",
     "exception": false,
     "start_time": "2024-06-17T06:02:21.638912",
     "status": "completed"
    },
    "tags": []
   },
   "outputs": [],
   "source": [
    "# the routine creates one hot encoding (dense matrix) from the input corpus.\n",
    "def create_hotencoding(corpus):\n",
    "  return [one_hot(word, vocabulary_size) for word in corpus]"
   ]
  },
  {
   "cell_type": "code",
   "execution_count": 18,
   "id": "c5c3ce65",
   "metadata": {
    "execution": {
     "iopub.execute_input": "2024-06-17T06:02:21.700589Z",
     "iopub.status.busy": "2024-06-17T06:02:21.700188Z",
     "iopub.status.idle": "2024-06-17T06:02:21.706401Z",
     "shell.execute_reply": "2024-06-17T06:02:21.705075Z"
    },
    "papermill": {
     "duration": 0.026984,
     "end_time": "2024-06-17T06:02:21.708902",
     "exception": false,
     "start_time": "2024-06-17T06:02:21.681918",
     "status": "completed"
    },
    "tags": []
   },
   "outputs": [],
   "source": [
    "# get the size of largest message in the input. \n",
    "# This allows us to create an embedding of the length that includes all the messages\n",
    "def get_max_length_for_embedding(data):\n",
    "  sentence_len = 0\n",
    "  for words in data:\n",
    "    sentence_len = max(sentence_len, len(words))\n",
    "  return sentence_len"
   ]
  },
  {
   "cell_type": "code",
   "execution_count": 19,
   "id": "e6bd8dd0",
   "metadata": {
    "execution": {
     "iopub.execute_input": "2024-06-17T06:02:21.744061Z",
     "iopub.status.busy": "2024-06-17T06:02:21.743634Z",
     "iopub.status.idle": "2024-06-17T06:02:40.893456Z",
     "shell.execute_reply": "2024-06-17T06:02:40.891890Z"
    },
    "papermill": {
     "duration": 19.170712,
     "end_time": "2024-06-17T06:02:40.896454",
     "exception": false,
     "start_time": "2024-06-17T06:02:21.725742",
     "status": "completed"
    },
    "tags": []
   },
   "outputs": [],
   "source": [
    "# preprocess and create a corpus from the tweets\n",
    "corpus = create_corpus(messages)"
   ]
  },
  {
   "cell_type": "code",
   "execution_count": 20,
   "id": "2aa43b48",
   "metadata": {
    "execution": {
     "iopub.execute_input": "2024-06-17T06:02:40.932530Z",
     "iopub.status.busy": "2024-06-17T06:02:40.932105Z",
     "iopub.status.idle": "2024-06-17T06:02:40.940933Z",
     "shell.execute_reply": "2024-06-17T06:02:40.939566Z"
    },
    "papermill": {
     "duration": 0.030693,
     "end_time": "2024-06-17T06:02:40.944041",
     "exception": false,
     "start_time": "2024-06-17T06:02:40.913348",
     "status": "completed"
    },
    "tags": []
   },
   "outputs": [
    {
     "name": "stdout",
     "output_type": "stream",
     "text": [
      "127\n"
     ]
    }
   ],
   "source": [
    "# get max length used for creating embedding.\n",
    "sentence_len = get_max_length_for_embedding(corpus)\n",
    "print(sentence_len)"
   ]
  },
  {
   "cell_type": "code",
   "execution_count": 21,
   "id": "a1c38859",
   "metadata": {
    "execution": {
     "iopub.execute_input": "2024-06-17T06:02:40.979514Z",
     "iopub.status.busy": "2024-06-17T06:02:40.978579Z",
     "iopub.status.idle": "2024-06-17T06:02:41.156229Z",
     "shell.execute_reply": "2024-06-17T06:02:41.154985Z"
    },
    "papermill": {
     "duration": 0.198241,
     "end_time": "2024-06-17T06:02:41.158980",
     "exception": false,
     "start_time": "2024-06-17T06:02:40.960739",
     "status": "completed"
    },
    "tags": []
   },
   "outputs": [
    {
     "name": "stdout",
     "output_type": "stream",
     "text": [
      "[    0     0     0     0     0     0     0     0     0     0     0     0\n",
      "     0     0     0     0     0     0     0     0     0     0     0     0\n",
      "     0     0     0     0     0     0     0     0     0     0     0     0\n",
      "     0     0     0     0     0     0     0     0     0     0     0     0\n",
      "     0     0     0     0     0     0     0     0     0     0     0     0\n",
      "     0     0     0     0     0     0     0     0     0     0     0     0\n",
      "     0     0     0     0     0     0     0     0     0     0     0     0\n",
      "     0     0     0     0     0     0     0     0     0     0     0     0\n",
      "     0     0     0     0     0     0     0     0     0     0     0     0\n",
      "     0     0     0     0     0     0     0     0     0     0     0     0\n",
      "     0 17609 11495  8453 18120 11010 18058]\n"
     ]
    }
   ],
   "source": [
    "# create a pre paddding for tweets shorter than the max length tweet\n",
    "embedded_docs = pad_sequences(create_hotencoding(corpus), padding='pre', maxlen=sentence_len)\n",
    "print(embedded_docs[10])"
   ]
  },
  {
   "cell_type": "markdown",
   "id": "87054f37",
   "metadata": {
    "papermill": {
     "duration": 0.01696,
     "end_time": "2024-06-17T06:02:41.193323",
     "exception": false,
     "start_time": "2024-06-17T06:02:41.176363",
     "status": "completed"
    },
    "tags": []
   },
   "source": [
    "# **Model selection and training**\n",
    "\n",
    "Selected a training model that comprises of an Embedding layer which was initialized with chosen \n",
    "- vocabulary size of 10,000, 20,000 words \n",
    "- *embedding_vector_features* with 100, 110, 120, 200, 300, 400 was selected. \n",
    "- *LSTM* was tested with 200, 250, 300 and 350 neurons. \n",
    "- A *Dropout layer* with 20, 25 and 30 percent dropout was added next. \n",
    "- Finally a *Dense layer* with *binary classification* and *Sigmoid* activation \n",
    "\n",
    "to generate binary result was created.\n",
    "\n",
    "Between *Ada, Adagrad and Adam* optimizer, Adam resulted in the best output. Binary CrossEntropy loss and Accuracy metrics for the model was used.\n",
    "\n",
    "Below is the model with the highest accuracy of validation result was selected."
   ]
  },
  {
   "cell_type": "code",
   "execution_count": 22,
   "id": "8f167cce",
   "metadata": {
    "execution": {
     "iopub.execute_input": "2024-06-17T06:02:41.291883Z",
     "iopub.status.busy": "2024-06-17T06:02:41.291419Z",
     "iopub.status.idle": "2024-06-17T06:02:41.382058Z",
     "shell.execute_reply": "2024-06-17T06:02:41.381004Z"
    },
    "papermill": {
     "duration": 0.11253,
     "end_time": "2024-06-17T06:02:41.385582",
     "exception": false,
     "start_time": "2024-06-17T06:02:41.273052",
     "status": "completed"
    },
    "tags": []
   },
   "outputs": [
    {
     "data": {
      "text/html": [
       "<pre style=\"white-space:pre;overflow-x:auto;line-height:normal;font-family:Menlo,'DejaVu Sans Mono',consolas,'Courier New',monospace\"><span style=\"font-weight: bold\">Model: \"sequential\"</span>\n",
       "</pre>\n"
      ],
      "text/plain": [
       "\u001b[1mModel: \"sequential\"\u001b[0m\n"
      ]
     },
     "metadata": {},
     "output_type": "display_data"
    },
    {
     "data": {
      "text/html": [
       "<pre style=\"white-space:pre;overflow-x:auto;line-height:normal;font-family:Menlo,'DejaVu Sans Mono',consolas,'Courier New',monospace\">┏━━━━━━━━━━━━━━━━━━━━━━━━━━━━━━━━━┳━━━━━━━━━━━━━━━━━━━━━━━━┳━━━━━━━━━━━━━━━┓\n",
       "┃<span style=\"font-weight: bold\"> Layer (type)                    </span>┃<span style=\"font-weight: bold\"> Output Shape           </span>┃<span style=\"font-weight: bold\">       Param # </span>┃\n",
       "┡━━━━━━━━━━━━━━━━━━━━━━━━━━━━━━━━━╇━━━━━━━━━━━━━━━━━━━━━━━━╇━━━━━━━━━━━━━━━┩\n",
       "│ embedding (<span style=\"color: #0087ff; text-decoration-color: #0087ff\">Embedding</span>)           │ ?                      │   <span style=\"color: #00af00; text-decoration-color: #00af00\">0</span> (unbuilt) │\n",
       "├─────────────────────────────────┼────────────────────────┼───────────────┤\n",
       "│ dropout (<span style=\"color: #0087ff; text-decoration-color: #0087ff\">Dropout</span>)               │ ?                      │   <span style=\"color: #00af00; text-decoration-color: #00af00\">0</span> (unbuilt) │\n",
       "├─────────────────────────────────┼────────────────────────┼───────────────┤\n",
       "│ lstm (<span style=\"color: #0087ff; text-decoration-color: #0087ff\">LSTM</span>)                     │ ?                      │   <span style=\"color: #00af00; text-decoration-color: #00af00\">0</span> (unbuilt) │\n",
       "├─────────────────────────────────┼────────────────────────┼───────────────┤\n",
       "│ dropout_1 (<span style=\"color: #0087ff; text-decoration-color: #0087ff\">Dropout</span>)             │ ?                      │   <span style=\"color: #00af00; text-decoration-color: #00af00\">0</span> (unbuilt) │\n",
       "├─────────────────────────────────┼────────────────────────┼───────────────┤\n",
       "│ dense (<span style=\"color: #0087ff; text-decoration-color: #0087ff\">Dense</span>)                   │ ?                      │   <span style=\"color: #00af00; text-decoration-color: #00af00\">0</span> (unbuilt) │\n",
       "└─────────────────────────────────┴────────────────────────┴───────────────┘\n",
       "</pre>\n"
      ],
      "text/plain": [
       "┏━━━━━━━━━━━━━━━━━━━━━━━━━━━━━━━━━┳━━━━━━━━━━━━━━━━━━━━━━━━┳━━━━━━━━━━━━━━━┓\n",
       "┃\u001b[1m \u001b[0m\u001b[1mLayer (type)                   \u001b[0m\u001b[1m \u001b[0m┃\u001b[1m \u001b[0m\u001b[1mOutput Shape          \u001b[0m\u001b[1m \u001b[0m┃\u001b[1m \u001b[0m\u001b[1m      Param #\u001b[0m\u001b[1m \u001b[0m┃\n",
       "┡━━━━━━━━━━━━━━━━━━━━━━━━━━━━━━━━━╇━━━━━━━━━━━━━━━━━━━━━━━━╇━━━━━━━━━━━━━━━┩\n",
       "│ embedding (\u001b[38;5;33mEmbedding\u001b[0m)           │ ?                      │   \u001b[38;5;34m0\u001b[0m (unbuilt) │\n",
       "├─────────────────────────────────┼────────────────────────┼───────────────┤\n",
       "│ dropout (\u001b[38;5;33mDropout\u001b[0m)               │ ?                      │   \u001b[38;5;34m0\u001b[0m (unbuilt) │\n",
       "├─────────────────────────────────┼────────────────────────┼───────────────┤\n",
       "│ lstm (\u001b[38;5;33mLSTM\u001b[0m)                     │ ?                      │   \u001b[38;5;34m0\u001b[0m (unbuilt) │\n",
       "├─────────────────────────────────┼────────────────────────┼───────────────┤\n",
       "│ dropout_1 (\u001b[38;5;33mDropout\u001b[0m)             │ ?                      │   \u001b[38;5;34m0\u001b[0m (unbuilt) │\n",
       "├─────────────────────────────────┼────────────────────────┼───────────────┤\n",
       "│ dense (\u001b[38;5;33mDense\u001b[0m)                   │ ?                      │   \u001b[38;5;34m0\u001b[0m (unbuilt) │\n",
       "└─────────────────────────────────┴────────────────────────┴───────────────┘\n"
      ]
     },
     "metadata": {},
     "output_type": "display_data"
    },
    {
     "data": {
      "text/html": [
       "<pre style=\"white-space:pre;overflow-x:auto;line-height:normal;font-family:Menlo,'DejaVu Sans Mono',consolas,'Courier New',monospace\"><span style=\"font-weight: bold\"> Total params: </span><span style=\"color: #00af00; text-decoration-color: #00af00\">0</span> (0.00 B)\n",
       "</pre>\n"
      ],
      "text/plain": [
       "\u001b[1m Total params: \u001b[0m\u001b[38;5;34m0\u001b[0m (0.00 B)\n"
      ]
     },
     "metadata": {},
     "output_type": "display_data"
    },
    {
     "data": {
      "text/html": [
       "<pre style=\"white-space:pre;overflow-x:auto;line-height:normal;font-family:Menlo,'DejaVu Sans Mono',consolas,'Courier New',monospace\"><span style=\"font-weight: bold\"> Trainable params: </span><span style=\"color: #00af00; text-decoration-color: #00af00\">0</span> (0.00 B)\n",
       "</pre>\n"
      ],
      "text/plain": [
       "\u001b[1m Trainable params: \u001b[0m\u001b[38;5;34m0\u001b[0m (0.00 B)\n"
      ]
     },
     "metadata": {},
     "output_type": "display_data"
    },
    {
     "data": {
      "text/html": [
       "<pre style=\"white-space:pre;overflow-x:auto;line-height:normal;font-family:Menlo,'DejaVu Sans Mono',consolas,'Courier New',monospace\"><span style=\"font-weight: bold\"> Non-trainable params: </span><span style=\"color: #00af00; text-decoration-color: #00af00\">0</span> (0.00 B)\n",
       "</pre>\n"
      ],
      "text/plain": [
       "\u001b[1m Non-trainable params: \u001b[0m\u001b[38;5;34m0\u001b[0m (0.00 B)\n"
      ]
     },
     "metadata": {},
     "output_type": "display_data"
    },
    {
     "name": "stdout",
     "output_type": "stream",
     "text": [
      "None\n"
     ]
    }
   ],
   "source": [
    "embedding_vector_features = 120\n",
    "lstm_neurons_count = 150\n",
    "dropout_percent = 0.2\n",
    "activation = 'sigmoid'\n",
    "loss_fn = 'binary_crossentropy'\n",
    "\n",
    "\n",
    "def create_model(evf, lstm_neurons_count, dropout_percent, activation, loss, metrics):\n",
    "    model = Sequential()\n",
    "    model.add(Embedding(vocabulary_size, evf))\n",
    "    model.add(Dropout(dropout_percent))\n",
    "    model.add(LSTM(lstm_neurons_count))\n",
    "    model.add(Dropout(dropout_percent))\n",
    "    model.add(Dense(1,activation=activation))\n",
    "    model.compile(loss=loss, optimizer=Adam(1e-4),metrics =['accuracy'])\n",
    "    print(model.summary())\n",
    "    return model\n",
    "\n",
    "model = create_model(embedding_vector_features, lstm_neurons_count, dropout_percent, activation,loss_fn,['accuracy'])"
   ]
  },
  {
   "cell_type": "code",
   "execution_count": 23,
   "id": "c7c519c2",
   "metadata": {
    "execution": {
     "iopub.execute_input": "2024-06-17T06:02:41.424973Z",
     "iopub.status.busy": "2024-06-17T06:02:41.424533Z",
     "iopub.status.idle": "2024-06-17T06:02:41.433649Z",
     "shell.execute_reply": "2024-06-17T06:02:41.432225Z"
    },
    "papermill": {
     "duration": 0.032359,
     "end_time": "2024-06-17T06:02:41.436807",
     "exception": false,
     "start_time": "2024-06-17T06:02:41.404448",
     "status": "completed"
    },
    "tags": []
   },
   "outputs": [],
   "source": [
    "# create np array of feature and target for it to work with tensorflow.\n",
    "X_final = np.array(embedded_docs)\n",
    "y_final = np.array(y)"
   ]
  },
  {
   "cell_type": "code",
   "execution_count": 24,
   "id": "2c9408e3",
   "metadata": {
    "execution": {
     "iopub.execute_input": "2024-06-17T06:02:41.475711Z",
     "iopub.status.busy": "2024-06-17T06:02:41.474627Z",
     "iopub.status.idle": "2024-06-17T06:02:41.483189Z",
     "shell.execute_reply": "2024-06-17T06:02:41.482013Z"
    },
    "papermill": {
     "duration": 0.031085,
     "end_time": "2024-06-17T06:02:41.486035",
     "exception": false,
     "start_time": "2024-06-17T06:02:41.454950",
     "status": "completed"
    },
    "tags": []
   },
   "outputs": [
    {
     "data": {
      "text/plain": [
       "((7613, 127), (7613,))"
      ]
     },
     "execution_count": 24,
     "metadata": {},
     "output_type": "execute_result"
    }
   ],
   "source": [
    "# validate the shape of final feature and target sets\n",
    "X_final.shape, y_final.shape"
   ]
  },
  {
   "cell_type": "code",
   "execution_count": 25,
   "id": "cb3a6272",
   "metadata": {
    "execution": {
     "iopub.execute_input": "2024-06-17T06:02:41.524600Z",
     "iopub.status.busy": "2024-06-17T06:02:41.524191Z",
     "iopub.status.idle": "2024-06-17T06:02:41.529625Z",
     "shell.execute_reply": "2024-06-17T06:02:41.528346Z"
    },
    "papermill": {
     "duration": 0.027608,
     "end_time": "2024-06-17T06:02:41.531971",
     "exception": false,
     "start_time": "2024-06-17T06:02:41.504363",
     "status": "completed"
    },
    "tags": []
   },
   "outputs": [],
   "source": [
    "# create a callback to stop early that monitors losses.\n",
    "callback = EarlyStopping(monitor='loss', patience=3)"
   ]
  },
  {
   "cell_type": "code",
   "execution_count": 26,
   "id": "02b2def3",
   "metadata": {
    "execution": {
     "iopub.execute_input": "2024-06-17T06:02:41.570686Z",
     "iopub.status.busy": "2024-06-17T06:02:41.570243Z",
     "iopub.status.idle": "2024-06-17T06:02:41.581472Z",
     "shell.execute_reply": "2024-06-17T06:02:41.580328Z"
    },
    "papermill": {
     "duration": 0.034071,
     "end_time": "2024-06-17T06:02:41.584294",
     "exception": false,
     "start_time": "2024-06-17T06:02:41.550223",
     "status": "completed"
    },
    "tags": []
   },
   "outputs": [],
   "source": [
    "# split the training dataset into train and validation set.\n",
    "X_train, X_test,y_train,y_test = train_test_split(X_final, y_final, test_size=.2, random_state=69)"
   ]
  },
  {
   "cell_type": "code",
   "execution_count": 27,
   "id": "6743edef",
   "metadata": {
    "execution": {
     "iopub.execute_input": "2024-06-17T06:02:41.622804Z",
     "iopub.status.busy": "2024-06-17T06:02:41.622288Z",
     "iopub.status.idle": "2024-06-17T06:06:23.809704Z",
     "shell.execute_reply": "2024-06-17T06:06:23.808079Z"
    },
    "papermill": {
     "duration": 222.210623,
     "end_time": "2024-06-17T06:06:23.813127",
     "exception": false,
     "start_time": "2024-06-17T06:02:41.602504",
     "status": "completed"
    },
    "tags": []
   },
   "outputs": [
    {
     "name": "stdout",
     "output_type": "stream",
     "text": [
      "Epoch 1/12\n",
      "\u001b[1m48/48\u001b[0m \u001b[32m━━━━━━━━━━━━━━━━━━━━\u001b[0m\u001b[37m\u001b[0m \u001b[1m21s\u001b[0m 360ms/step - accuracy: 0.5482 - loss: 0.6884 - val_accuracy: 0.5850 - val_loss: 0.6680\n",
      "Epoch 2/12\n",
      "\u001b[1m48/48\u001b[0m \u001b[32m━━━━━━━━━━━━━━━━━━━━\u001b[0m\u001b[37m\u001b[0m \u001b[1m17s\u001b[0m 363ms/step - accuracy: 0.5598 - loss: 0.6744 - val_accuracy: 0.5909 - val_loss: 0.6554\n",
      "Epoch 3/12\n",
      "\u001b[1m48/48\u001b[0m \u001b[32m━━━━━━━━━━━━━━━━━━━━\u001b[0m\u001b[37m\u001b[0m \u001b[1m17s\u001b[0m 353ms/step - accuracy: 0.6098 - loss: 0.6500 - val_accuracy: 0.6546 - val_loss: 0.6354\n",
      "Epoch 4/12\n",
      "\u001b[1m48/48\u001b[0m \u001b[32m━━━━━━━━━━━━━━━━━━━━\u001b[0m\u001b[37m\u001b[0m \u001b[1m17s\u001b[0m 358ms/step - accuracy: 0.6964 - loss: 0.6218 - val_accuracy: 0.7255 - val_loss: 0.5793\n",
      "Epoch 5/12\n",
      "\u001b[1m48/48\u001b[0m \u001b[32m━━━━━━━━━━━━━━━━━━━━\u001b[0m\u001b[37m\u001b[0m \u001b[1m17s\u001b[0m 351ms/step - accuracy: 0.7729 - loss: 0.5341 - val_accuracy: 0.7623 - val_loss: 0.4886\n",
      "Epoch 6/12\n",
      "\u001b[1m48/48\u001b[0m \u001b[32m━━━━━━━━━━━━━━━━━━━━\u001b[0m\u001b[37m\u001b[0m \u001b[1m21s\u001b[0m 358ms/step - accuracy: 0.8229 - loss: 0.4147 - val_accuracy: 0.7932 - val_loss: 0.4535\n",
      "Epoch 7/12\n",
      "\u001b[1m48/48\u001b[0m \u001b[32m━━━━━━━━━━━━━━━━━━━━\u001b[0m\u001b[37m\u001b[0m \u001b[1m17s\u001b[0m 349ms/step - accuracy: 0.8554 - loss: 0.3544 - val_accuracy: 0.7971 - val_loss: 0.4535\n",
      "Epoch 8/12\n",
      "\u001b[1m48/48\u001b[0m \u001b[32m━━━━━━━━━━━━━━━━━━━━\u001b[0m\u001b[37m\u001b[0m \u001b[1m17s\u001b[0m 357ms/step - accuracy: 0.8717 - loss: 0.3142 - val_accuracy: 0.7899 - val_loss: 0.4798\n",
      "Epoch 9/12\n",
      "\u001b[1m48/48\u001b[0m \u001b[32m━━━━━━━━━━━━━━━━━━━━\u001b[0m\u001b[37m\u001b[0m \u001b[1m17s\u001b[0m 352ms/step - accuracy: 0.8991 - loss: 0.2681 - val_accuracy: 0.7879 - val_loss: 0.5030\n",
      "Epoch 10/12\n",
      "\u001b[1m48/48\u001b[0m \u001b[32m━━━━━━━━━━━━━━━━━━━━\u001b[0m\u001b[37m\u001b[0m \u001b[1m21s\u001b[0m 352ms/step - accuracy: 0.9076 - loss: 0.2455 - val_accuracy: 0.7859 - val_loss: 0.5102\n",
      "Epoch 11/12\n",
      "\u001b[1m48/48\u001b[0m \u001b[32m━━━━━━━━━━━━━━━━━━━━\u001b[0m\u001b[37m\u001b[0m \u001b[1m17s\u001b[0m 360ms/step - accuracy: 0.9205 - loss: 0.2162 - val_accuracy: 0.7859 - val_loss: 0.5484\n",
      "Epoch 12/12\n",
      "\u001b[1m48/48\u001b[0m \u001b[32m━━━━━━━━━━━━━━━━━━━━\u001b[0m\u001b[37m\u001b[0m \u001b[1m20s\u001b[0m 351ms/step - accuracy: 0.9211 - loss: 0.2095 - val_accuracy: 0.7761 - val_loss: 0.5594\n"
     ]
    }
   ],
   "source": [
    "# fit the model\n",
    "history = model.fit(X_train,y_train, validation_data=(X_test,y_test), epochs=12,batch_size=128,callbacks=[callback])"
   ]
  },
  {
   "cell_type": "code",
   "execution_count": 28,
   "id": "6894a0d7",
   "metadata": {
    "execution": {
     "iopub.execute_input": "2024-06-17T06:06:23.967391Z",
     "iopub.status.busy": "2024-06-17T06:06:23.966953Z",
     "iopub.status.idle": "2024-06-17T06:06:24.303010Z",
     "shell.execute_reply": "2024-06-17T06:06:24.301821Z"
    },
    "papermill": {
     "duration": 0.417765,
     "end_time": "2024-06-17T06:06:24.305344",
     "exception": false,
     "start_time": "2024-06-17T06:06:23.887579",
     "status": "completed"
    },
    "tags": []
   },
   "outputs": [
    {
     "data": {
      "image/png": "[encoded data removed]",
      "text/plain": [
       "<Figure size 640x480 with 1 Axes>"
      ]
     },
     "metadata": {},
     "output_type": "display_data"
    }
   ],
   "source": [
    "# create a chart for training and validation loss.\n",
    "loss = history.history['loss']\n",
    "val_loss = history.history['val_loss']\n",
    "epochs = range(1, len(loss) + 1)\n",
    "plt.plot(epochs, loss, 'y', label='Training loss')\n",
    "plt.plot(epochs, val_loss, 'r', label='Validation loss')\n",
    "plt.title('Training and validation loss')\n",
    "plt.xlabel('Epochs')\n",
    "plt.ylabel('Loss')\n",
    "plt.legend()\n",
    "plt.show()"
   ]
  },
  {
   "cell_type": "code",
   "execution_count": 29,
   "id": "d684ba48",
   "metadata": {
    "execution": {
     "iopub.execute_input": "2024-06-17T06:06:24.458945Z",
     "iopub.status.busy": "2024-06-17T06:06:24.458481Z",
     "iopub.status.idle": "2024-06-17T06:06:27.481960Z",
     "shell.execute_reply": "2024-06-17T06:06:27.480677Z"
    },
    "papermill": {
     "duration": 3.103707,
     "end_time": "2024-06-17T06:06:27.484992",
     "exception": false,
     "start_time": "2024-06-17T06:06:24.381285",
     "status": "completed"
    },
    "tags": []
   },
   "outputs": [
    {
     "name": "stdout",
     "output_type": "stream",
     "text": [
      "\u001b[1m48/48\u001b[0m \u001b[32m━━━━━━━━━━━━━━━━━━━━\u001b[0m\u001b[37m\u001b[0m \u001b[1m3s\u001b[0m 57ms/step\n"
     ]
    }
   ],
   "source": [
    "# create prediction from the model\n",
    "y_pred = (model.predict(X_test) > 0.5).astype(\"int32\")"
   ]
  },
  {
   "cell_type": "code",
   "execution_count": 30,
   "id": "ebcfa809",
   "metadata": {
    "execution": {
     "iopub.execute_input": "2024-06-17T06:06:27.651249Z",
     "iopub.status.busy": "2024-06-17T06:06:27.650817Z",
     "iopub.status.idle": "2024-06-17T06:06:27.661589Z",
     "shell.execute_reply": "2024-06-17T06:06:27.660384Z"
    },
    "papermill": {
     "duration": 0.099826,
     "end_time": "2024-06-17T06:06:27.664329",
     "exception": false,
     "start_time": "2024-06-17T06:06:27.564503",
     "status": "completed"
    },
    "tags": []
   },
   "outputs": [
    {
     "data": {
      "text/plain": [
       "array([[732, 159],\n",
       "       [182, 450]])"
      ]
     },
     "execution_count": 30,
     "metadata": {},
     "output_type": "execute_result"
    }
   ],
   "source": [
    "# generate confusion matrix to observe FP and FN\n",
    "confusion_matrix(y_test,y_pred[:, 0])"
   ]
  },
  {
   "cell_type": "code",
   "execution_count": 31,
   "id": "2931f38d",
   "metadata": {
    "execution": {
     "iopub.execute_input": "2024-06-17T06:06:27.848268Z",
     "iopub.status.busy": "2024-06-17T06:06:27.847725Z",
     "iopub.status.idle": "2024-06-17T06:06:27.856612Z",
     "shell.execute_reply": "2024-06-17T06:06:27.855517Z"
    },
    "papermill": {
     "duration": 0.105008,
     "end_time": "2024-06-17T06:06:27.859077",
     "exception": false,
     "start_time": "2024-06-17T06:06:27.754069",
     "status": "completed"
    },
    "tags": []
   },
   "outputs": [
    {
     "data": {
      "text/plain": [
       "0.7760998030203545"
      ]
     },
     "execution_count": 31,
     "metadata": {},
     "output_type": "execute_result"
    }
   ],
   "source": [
    "# generate accuracy score\n",
    "accuracy_score(y_pred, y_test)"
   ]
  },
  {
   "cell_type": "code",
   "execution_count": 32,
   "id": "65c00b24",
   "metadata": {
    "execution": {
     "iopub.execute_input": "2024-06-17T06:06:28.025025Z",
     "iopub.status.busy": "2024-06-17T06:06:28.024066Z",
     "iopub.status.idle": "2024-06-17T06:06:28.037587Z",
     "shell.execute_reply": "2024-06-17T06:06:28.036439Z"
    },
    "papermill": {
     "duration": 0.10092,
     "end_time": "2024-06-17T06:06:28.040199",
     "exception": false,
     "start_time": "2024-06-17T06:06:27.939279",
     "status": "completed"
    },
    "tags": []
   },
   "outputs": [
    {
     "data": {
      "text/html": [
       "<div>\n",
       "<style scoped>\n",
       "    .dataframe tbody tr th:only-of-type {\n",
       "        vertical-align: middle;\n",
       "    }\n",
       "\n",
       "    .dataframe tbody tr th {\n",
       "        vertical-align: top;\n",
       "    }\n",
       "\n",
       "    .dataframe thead th {\n",
       "        text-align: right;\n",
       "    }\n",
       "</style>\n",
       "<table border=\"1\" class=\"dataframe\">\n",
       "  <thead>\n",
       "    <tr style=\"text-align: right;\">\n",
       "      <th></th>\n",
       "      <th>id</th>\n",
       "      <th>keyword</th>\n",
       "      <th>location</th>\n",
       "      <th>text</th>\n",
       "    </tr>\n",
       "  </thead>\n",
       "  <tbody>\n",
       "    <tr>\n",
       "      <th>0</th>\n",
       "      <td>0</td>\n",
       "      <td>NaN</td>\n",
       "      <td>NaN</td>\n",
       "      <td>Just happened a terrible car crash</td>\n",
       "    </tr>\n",
       "    <tr>\n",
       "      <th>1</th>\n",
       "      <td>2</td>\n",
       "      <td>NaN</td>\n",
       "      <td>NaN</td>\n",
       "      <td>Heard about #earthquake is different cities, s...</td>\n",
       "    </tr>\n",
       "    <tr>\n",
       "      <th>2</th>\n",
       "      <td>3</td>\n",
       "      <td>NaN</td>\n",
       "      <td>NaN</td>\n",
       "      <td>there is a forest fire at spot pond, geese are...</td>\n",
       "    </tr>\n",
       "    <tr>\n",
       "      <th>3</th>\n",
       "      <td>9</td>\n",
       "      <td>NaN</td>\n",
       "      <td>NaN</td>\n",
       "      <td>Apocalypse lighting. #Spokane #wildfires</td>\n",
       "    </tr>\n",
       "    <tr>\n",
       "      <th>4</th>\n",
       "      <td>11</td>\n",
       "      <td>NaN</td>\n",
       "      <td>NaN</td>\n",
       "      <td>Typhoon Soudelor kills 28 in China and Taiwan</td>\n",
       "    </tr>\n",
       "  </tbody>\n",
       "</table>\n",
       "</div>"
      ],
      "text/plain": [
       "   id keyword location                                               text\n",
       "0   0     NaN      NaN                 Just happened a terrible car crash\n",
       "1   2     NaN      NaN  Heard about #earthquake is different cities, s...\n",
       "2   3     NaN      NaN  there is a forest fire at spot pond, geese are...\n",
       "3   9     NaN      NaN           Apocalypse lighting. #Spokane #wildfires\n",
       "4  11     NaN      NaN      Typhoon Soudelor kills 28 in China and Taiwan"
      ]
     },
     "execution_count": 32,
     "metadata": {},
     "output_type": "execute_result"
    }
   ],
   "source": [
    "# inspect first 5 rows of the test set\n",
    "test_df.head()"
   ]
  },
  {
   "cell_type": "code",
   "execution_count": 33,
   "id": "59383043",
   "metadata": {
    "execution": {
     "iopub.execute_input": "2024-06-17T06:06:28.203870Z",
     "iopub.status.busy": "2024-06-17T06:06:28.202830Z",
     "iopub.status.idle": "2024-06-17T06:06:28.210193Z",
     "shell.execute_reply": "2024-06-17T06:06:28.209015Z"
    },
    "papermill": {
     "duration": 0.091703,
     "end_time": "2024-06-17T06:06:28.212567",
     "exception": false,
     "start_time": "2024-06-17T06:06:28.120864",
     "status": "completed"
    },
    "tags": []
   },
   "outputs": [
    {
     "data": {
      "text/plain": [
       "(3263, 4)"
      ]
     },
     "execution_count": 33,
     "metadata": {},
     "output_type": "execute_result"
    }
   ],
   "source": [
    "# inspect the shape of test set\n",
    "test_df.shape"
   ]
  },
  {
   "cell_type": "code",
   "execution_count": 34,
   "id": "bb68a690",
   "metadata": {
    "execution": {
     "iopub.execute_input": "2024-06-17T06:06:28.377727Z",
     "iopub.status.busy": "2024-06-17T06:06:28.377300Z",
     "iopub.status.idle": "2024-06-17T06:06:42.078178Z",
     "shell.execute_reply": "2024-06-17T06:06:42.076834Z"
    },
    "papermill": {
     "duration": 13.785929,
     "end_time": "2024-06-17T06:06:42.081107",
     "exception": false,
     "start_time": "2024-06-17T06:06:28.295178",
     "status": "completed"
    },
    "tags": []
   },
   "outputs": [
    {
     "name": "stdout",
     "output_type": "stream",
     "text": [
      "[[    0     0     0 ...  5290 17276 19066]\n",
      " [    0     0     0 ...  4867 13504 19908]\n",
      " [    0     0     0 ...  4569 14559 10069]\n",
      " ...\n",
      " [    0     0     0 ...  4623 18690  9462]\n",
      " [    0     0     0 ...  4222 14241 11988]\n",
      " [    0     0     0 ...  4627 17629 15274]]\n",
      "\u001b[1m102/102\u001b[0m \u001b[32m━━━━━━━━━━━━━━━━━━━━\u001b[0m\u001b[37m\u001b[0m \u001b[1m5s\u001b[0m 49ms/step\n"
     ]
    }
   ],
   "source": [
    "# create corpus and embedding from test dataset and predict test result from the trained model\n",
    "corpus = create_corpus(test_df['text'])\n",
    "sentence_len = get_max_length_for_embedding(corpus)\n",
    "embedded_docs = pad_sequences(create_hotencoding(corpus), padding='pre', maxlen=sentence_len)\n",
    "\n",
    "print(embedded_docs)\n",
    "\n",
    "\n",
    "X_final = np.array(embedded_docs)\n",
    "result = (model.predict(X_final) > 0.5).astype(\"int32\")"
   ]
  },
  {
   "cell_type": "code",
   "execution_count": 35,
   "id": "dd8bd47f",
   "metadata": {
    "execution": {
     "iopub.execute_input": "2024-06-17T06:06:42.255951Z",
     "iopub.status.busy": "2024-06-17T06:06:42.255493Z",
     "iopub.status.idle": "2024-06-17T06:06:42.263314Z",
     "shell.execute_reply": "2024-06-17T06:06:42.262114Z"
    },
    "papermill": {
     "duration": 0.09733,
     "end_time": "2024-06-17T06:06:42.265753",
     "exception": false,
     "start_time": "2024-06-17T06:06:42.168423",
     "status": "completed"
    },
    "tags": []
   },
   "outputs": [
    {
     "data": {
      "text/plain": [
       "array([1, 1, 1, ..., 1, 1, 1], dtype=int32)"
      ]
     },
     "execution_count": 35,
     "metadata": {},
     "output_type": "execute_result"
    }
   ],
   "source": [
    "# result.shape\n",
    "out = result.reshape(len(result),)\n",
    "out"
   ]
  },
  {
   "cell_type": "code",
   "execution_count": 36,
   "id": "0f6b421d",
   "metadata": {
    "execution": {
     "iopub.execute_input": "2024-06-17T06:06:42.441001Z",
     "iopub.status.busy": "2024-06-17T06:06:42.440400Z",
     "iopub.status.idle": "2024-06-17T06:06:42.449203Z",
     "shell.execute_reply": "2024-06-17T06:06:42.448001Z"
    },
    "papermill": {
     "duration": 0.099518,
     "end_time": "2024-06-17T06:06:42.451538",
     "exception": false,
     "start_time": "2024-06-17T06:06:42.352020",
     "status": "completed"
    },
    "tags": []
   },
   "outputs": [
    {
     "data": {
      "text/plain": [
       "(1927, 1336)"
      ]
     },
     "execution_count": 36,
     "metadata": {},
     "output_type": "execute_result"
    }
   ],
   "source": [
    "# validate 0s and 1s in the result \n",
    "ones = np.count_nonzero(result)\n",
    "zeroes = len(result) - ones\n",
    "(zeroes,ones)"
   ]
  },
  {
   "cell_type": "code",
   "execution_count": 37,
   "id": "15616919",
   "metadata": {
    "execution": {
     "iopub.execute_input": "2024-06-17T06:06:42.630409Z",
     "iopub.status.busy": "2024-06-17T06:06:42.629949Z",
     "iopub.status.idle": "2024-06-17T06:06:42.636957Z",
     "shell.execute_reply": "2024-06-17T06:06:42.635589Z"
    },
    "papermill": {
     "duration": 0.099305,
     "end_time": "2024-06-17T06:06:42.639636",
     "exception": false,
     "start_time": "2024-06-17T06:06:42.540331",
     "status": "completed"
    },
    "tags": []
   },
   "outputs": [],
   "source": [
    "# generate a new dataset from the test result\n",
    "df_result = pd.DataFrame({'id':test_df['id'], 'text':test_df['text'], 'target':out})"
   ]
  },
  {
   "cell_type": "code",
   "execution_count": 38,
   "id": "49e823bd",
   "metadata": {
    "execution": {
     "iopub.execute_input": "2024-06-17T06:06:42.815445Z",
     "iopub.status.busy": "2024-06-17T06:06:42.815030Z",
     "iopub.status.idle": "2024-06-17T06:06:42.829412Z",
     "shell.execute_reply": "2024-06-17T06:06:42.828312Z"
    },
    "papermill": {
     "duration": 0.105048,
     "end_time": "2024-06-17T06:06:42.832138",
     "exception": false,
     "start_time": "2024-06-17T06:06:42.727090",
     "status": "completed"
    },
    "tags": []
   },
   "outputs": [
    {
     "data": {
      "text/html": [
       "<div>\n",
       "<style scoped>\n",
       "    .dataframe tbody tr th:only-of-type {\n",
       "        vertical-align: middle;\n",
       "    }\n",
       "\n",
       "    .dataframe tbody tr th {\n",
       "        vertical-align: top;\n",
       "    }\n",
       "\n",
       "    .dataframe thead th {\n",
       "        text-align: right;\n",
       "    }\n",
       "</style>\n",
       "<table border=\"1\" class=\"dataframe\">\n",
       "  <thead>\n",
       "    <tr style=\"text-align: right;\">\n",
       "      <th></th>\n",
       "      <th>id</th>\n",
       "      <th>text</th>\n",
       "      <th>target</th>\n",
       "    </tr>\n",
       "  </thead>\n",
       "  <tbody>\n",
       "    <tr>\n",
       "      <th>0</th>\n",
       "      <td>0</td>\n",
       "      <td>Just happened a terrible car crash</td>\n",
       "      <td>1</td>\n",
       "    </tr>\n",
       "    <tr>\n",
       "      <th>1</th>\n",
       "      <td>2</td>\n",
       "      <td>Heard about #earthquake is different cities, s...</td>\n",
       "      <td>1</td>\n",
       "    </tr>\n",
       "    <tr>\n",
       "      <th>2</th>\n",
       "      <td>3</td>\n",
       "      <td>there is a forest fire at spot pond, geese are...</td>\n",
       "      <td>1</td>\n",
       "    </tr>\n",
       "    <tr>\n",
       "      <th>3</th>\n",
       "      <td>9</td>\n",
       "      <td>Apocalypse lighting. #Spokane #wildfires</td>\n",
       "      <td>0</td>\n",
       "    </tr>\n",
       "    <tr>\n",
       "      <th>4</th>\n",
       "      <td>11</td>\n",
       "      <td>Typhoon Soudelor kills 28 in China and Taiwan</td>\n",
       "      <td>1</td>\n",
       "    </tr>\n",
       "    <tr>\n",
       "      <th>5</th>\n",
       "      <td>12</td>\n",
       "      <td>We're shaking...It's an earthquake</td>\n",
       "      <td>0</td>\n",
       "    </tr>\n",
       "    <tr>\n",
       "      <th>6</th>\n",
       "      <td>21</td>\n",
       "      <td>They'd probably still show more life than Arse...</td>\n",
       "      <td>0</td>\n",
       "    </tr>\n",
       "    <tr>\n",
       "      <th>7</th>\n",
       "      <td>22</td>\n",
       "      <td>Hey! How are you?</td>\n",
       "      <td>0</td>\n",
       "    </tr>\n",
       "    <tr>\n",
       "      <th>8</th>\n",
       "      <td>27</td>\n",
       "      <td>What a nice hat?</td>\n",
       "      <td>0</td>\n",
       "    </tr>\n",
       "    <tr>\n",
       "      <th>9</th>\n",
       "      <td>29</td>\n",
       "      <td>Fuck off!</td>\n",
       "      <td>0</td>\n",
       "    </tr>\n",
       "    <tr>\n",
       "      <th>10</th>\n",
       "      <td>30</td>\n",
       "      <td>No I don't like cold!</td>\n",
       "      <td>0</td>\n",
       "    </tr>\n",
       "    <tr>\n",
       "      <th>11</th>\n",
       "      <td>35</td>\n",
       "      <td>NOOOOOOOOO! Don't do that!</td>\n",
       "      <td>0</td>\n",
       "    </tr>\n",
       "    <tr>\n",
       "      <th>12</th>\n",
       "      <td>42</td>\n",
       "      <td>No don't tell me that!</td>\n",
       "      <td>0</td>\n",
       "    </tr>\n",
       "    <tr>\n",
       "      <th>13</th>\n",
       "      <td>43</td>\n",
       "      <td>What if?!</td>\n",
       "      <td>0</td>\n",
       "    </tr>\n",
       "    <tr>\n",
       "      <th>14</th>\n",
       "      <td>45</td>\n",
       "      <td>Awesome!</td>\n",
       "      <td>0</td>\n",
       "    </tr>\n",
       "    <tr>\n",
       "      <th>15</th>\n",
       "      <td>46</td>\n",
       "      <td>Birmingham Wholesale Market is ablaze BBC News...</td>\n",
       "      <td>1</td>\n",
       "    </tr>\n",
       "    <tr>\n",
       "      <th>16</th>\n",
       "      <td>47</td>\n",
       "      <td>@sunkxssedharry will you wear shorts for race ...</td>\n",
       "      <td>0</td>\n",
       "    </tr>\n",
       "    <tr>\n",
       "      <th>17</th>\n",
       "      <td>51</td>\n",
       "      <td>#PreviouslyOnDoyinTv: Toke MakinwaÛªs marriag...</td>\n",
       "      <td>1</td>\n",
       "    </tr>\n",
       "    <tr>\n",
       "      <th>18</th>\n",
       "      <td>58</td>\n",
       "      <td>Check these out: http://t.co/rOI2NSmEJJ http:/...</td>\n",
       "      <td>0</td>\n",
       "    </tr>\n",
       "    <tr>\n",
       "      <th>19</th>\n",
       "      <td>60</td>\n",
       "      <td>PSA: IÛªm splitting my personalities.\\n\\n?? t...</td>\n",
       "      <td>0</td>\n",
       "    </tr>\n",
       "  </tbody>\n",
       "</table>\n",
       "</div>"
      ],
      "text/plain": [
       "    id                                               text  target\n",
       "0    0                 Just happened a terrible car crash       1\n",
       "1    2  Heard about #earthquake is different cities, s...       1\n",
       "2    3  there is a forest fire at spot pond, geese are...       1\n",
       "3    9           Apocalypse lighting. #Spokane #wildfires       0\n",
       "4   11      Typhoon Soudelor kills 28 in China and Taiwan       1\n",
       "5   12                 We're shaking...It's an earthquake       0\n",
       "6   21  They'd probably still show more life than Arse...       0\n",
       "7   22                                  Hey! How are you?       0\n",
       "8   27                                   What a nice hat?       0\n",
       "9   29                                          Fuck off!       0\n",
       "10  30                              No I don't like cold!       0\n",
       "11  35                         NOOOOOOOOO! Don't do that!       0\n",
       "12  42                             No don't tell me that!       0\n",
       "13  43                                          What if?!       0\n",
       "14  45                                           Awesome!       0\n",
       "15  46  Birmingham Wholesale Market is ablaze BBC News...       1\n",
       "16  47  @sunkxssedharry will you wear shorts for race ...       0\n",
       "17  51  #PreviouslyOnDoyinTv: Toke MakinwaÛªs marriag...       1\n",
       "18  58  Check these out: http://t.co/rOI2NSmEJJ http:/...       0\n",
       "19  60  PSA: IÛªm splitting my personalities.\\n\\n?? t...       0"
      ]
     },
     "execution_count": 38,
     "metadata": {},
     "output_type": "execute_result"
    }
   ],
   "source": [
    "# inspect top 20 test tweets with target result\n",
    "df_result.head(20)"
   ]
  },
  {
   "cell_type": "code",
   "execution_count": 39,
   "id": "a5b65f10",
   "metadata": {
    "execution": {
     "iopub.execute_input": "2024-06-17T06:06:43.009808Z",
     "iopub.status.busy": "2024-06-17T06:06:43.009340Z",
     "iopub.status.idle": "2024-06-17T06:06:43.023299Z",
     "shell.execute_reply": "2024-06-17T06:06:43.022094Z"
    },
    "papermill": {
     "duration": 0.106212,
     "end_time": "2024-06-17T06:06:43.026136",
     "exception": false,
     "start_time": "2024-06-17T06:06:42.919924",
     "status": "completed"
    },
    "tags": []
   },
   "outputs": [
    {
     "data": {
      "text/html": [
       "<div>\n",
       "<style scoped>\n",
       "    .dataframe tbody tr th:only-of-type {\n",
       "        vertical-align: middle;\n",
       "    }\n",
       "\n",
       "    .dataframe tbody tr th {\n",
       "        vertical-align: top;\n",
       "    }\n",
       "\n",
       "    .dataframe thead th {\n",
       "        text-align: right;\n",
       "    }\n",
       "</style>\n",
       "<table border=\"1\" class=\"dataframe\">\n",
       "  <thead>\n",
       "    <tr style=\"text-align: right;\">\n",
       "      <th></th>\n",
       "      <th>id</th>\n",
       "      <th>text</th>\n",
       "      <th>target</th>\n",
       "    </tr>\n",
       "  </thead>\n",
       "  <tbody>\n",
       "    <tr>\n",
       "      <th>3243</th>\n",
       "      <td>10796</td>\n",
       "      <td>'What manner of human being would parcel out a...</td>\n",
       "      <td>1</td>\n",
       "    </tr>\n",
       "    <tr>\n",
       "      <th>3244</th>\n",
       "      <td>10797</td>\n",
       "      <td>@Nathan26_RFC thought you said Saturday night ...</td>\n",
       "      <td>1</td>\n",
       "    </tr>\n",
       "    <tr>\n",
       "      <th>3245</th>\n",
       "      <td>10801</td>\n",
       "      <td>I just wanna ease your mind and make you feel ...</td>\n",
       "      <td>0</td>\n",
       "    </tr>\n",
       "    <tr>\n",
       "      <th>3246</th>\n",
       "      <td>10804</td>\n",
       "      <td>@yakubOObs think he deactivated because his no...</td>\n",
       "      <td>0</td>\n",
       "    </tr>\n",
       "    <tr>\n",
       "      <th>3247</th>\n",
       "      <td>10806</td>\n",
       "      <td>RT CNBC '3 words from Disney CEO Bob Iger wrec...</td>\n",
       "      <td>0</td>\n",
       "    </tr>\n",
       "    <tr>\n",
       "      <th>3248</th>\n",
       "      <td>10807</td>\n",
       "      <td>Smackdown tyme this should put me in a good mo...</td>\n",
       "      <td>0</td>\n",
       "    </tr>\n",
       "    <tr>\n",
       "      <th>3249</th>\n",
       "      <td>10816</td>\n",
       "      <td>@thrillhho jsyk I haven't stopped thinking abt...</td>\n",
       "      <td>0</td>\n",
       "    </tr>\n",
       "    <tr>\n",
       "      <th>3250</th>\n",
       "      <td>10820</td>\n",
       "      <td>@stighefootball Begovic has been garbage. He g...</td>\n",
       "      <td>0</td>\n",
       "    </tr>\n",
       "    <tr>\n",
       "      <th>3251</th>\n",
       "      <td>10828</td>\n",
       "      <td>Wrecked today got my hattrick ????</td>\n",
       "      <td>0</td>\n",
       "    </tr>\n",
       "    <tr>\n",
       "      <th>3252</th>\n",
       "      <td>10836</td>\n",
       "      <td>#Ebola #EbolaOutbreak Ebola Virus: Birmingham ...</td>\n",
       "      <td>1</td>\n",
       "    </tr>\n",
       "    <tr>\n",
       "      <th>3253</th>\n",
       "      <td>10838</td>\n",
       "      <td>Malaysian PM confirms debris is from missing f...</td>\n",
       "      <td>1</td>\n",
       "    </tr>\n",
       "    <tr>\n",
       "      <th>3254</th>\n",
       "      <td>10845</td>\n",
       "      <td>Officials: Alabama home quarantined over possi...</td>\n",
       "      <td>1</td>\n",
       "    </tr>\n",
       "    <tr>\n",
       "      <th>3255</th>\n",
       "      <td>10856</td>\n",
       "      <td>See the 16yr old PKK suicide bomber who detona...</td>\n",
       "      <td>1</td>\n",
       "    </tr>\n",
       "    <tr>\n",
       "      <th>3256</th>\n",
       "      <td>10857</td>\n",
       "      <td>To conference attendees! The blue line from th...</td>\n",
       "      <td>1</td>\n",
       "    </tr>\n",
       "    <tr>\n",
       "      <th>3257</th>\n",
       "      <td>10858</td>\n",
       "      <td>The death toll in a #IS-suicide car bombing on...</td>\n",
       "      <td>1</td>\n",
       "    </tr>\n",
       "    <tr>\n",
       "      <th>3258</th>\n",
       "      <td>10861</td>\n",
       "      <td>EARTHQUAKE SAFETY LOS ANGELES ÛÒ SAFETY FASTE...</td>\n",
       "      <td>1</td>\n",
       "    </tr>\n",
       "    <tr>\n",
       "      <th>3259</th>\n",
       "      <td>10865</td>\n",
       "      <td>Storm in RI worse than last hurricane. My city...</td>\n",
       "      <td>1</td>\n",
       "    </tr>\n",
       "    <tr>\n",
       "      <th>3260</th>\n",
       "      <td>10868</td>\n",
       "      <td>Green Line derailment in Chicago http://t.co/U...</td>\n",
       "      <td>1</td>\n",
       "    </tr>\n",
       "    <tr>\n",
       "      <th>3261</th>\n",
       "      <td>10874</td>\n",
       "      <td>MEG issues Hazardous Weather Outlook (HWO) htt...</td>\n",
       "      <td>1</td>\n",
       "    </tr>\n",
       "    <tr>\n",
       "      <th>3262</th>\n",
       "      <td>10875</td>\n",
       "      <td>#CityofCalgary has activated its Municipal Eme...</td>\n",
       "      <td>1</td>\n",
       "    </tr>\n",
       "  </tbody>\n",
       "</table>\n",
       "</div>"
      ],
      "text/plain": [
       "         id                                               text  target\n",
       "3243  10796  'What manner of human being would parcel out a...       1\n",
       "3244  10797  @Nathan26_RFC thought you said Saturday night ...       1\n",
       "3245  10801  I just wanna ease your mind and make you feel ...       0\n",
       "3246  10804  @yakubOObs think he deactivated because his no...       0\n",
       "3247  10806  RT CNBC '3 words from Disney CEO Bob Iger wrec...       0\n",
       "3248  10807  Smackdown tyme this should put me in a good mo...       0\n",
       "3249  10816  @thrillhho jsyk I haven't stopped thinking abt...       0\n",
       "3250  10820  @stighefootball Begovic has been garbage. He g...       0\n",
       "3251  10828                 Wrecked today got my hattrick ????       0\n",
       "3252  10836  #Ebola #EbolaOutbreak Ebola Virus: Birmingham ...       1\n",
       "3253  10838  Malaysian PM confirms debris is from missing f...       1\n",
       "3254  10845  Officials: Alabama home quarantined over possi...       1\n",
       "3255  10856  See the 16yr old PKK suicide bomber who detona...       1\n",
       "3256  10857  To conference attendees! The blue line from th...       1\n",
       "3257  10858  The death toll in a #IS-suicide car bombing on...       1\n",
       "3258  10861  EARTHQUAKE SAFETY LOS ANGELES ÛÒ SAFETY FASTE...       1\n",
       "3259  10865  Storm in RI worse than last hurricane. My city...       1\n",
       "3260  10868  Green Line derailment in Chicago http://t.co/U...       1\n",
       "3261  10874  MEG issues Hazardous Weather Outlook (HWO) htt...       1\n",
       "3262  10875  #CityofCalgary has activated its Municipal Eme...       1"
      ]
     },
     "execution_count": 39,
     "metadata": {},
     "output_type": "execute_result"
    }
   ],
   "source": [
    "# inspect last 20 test tweets with target result\n",
    "df_result.tail(20)"
   ]
  },
  {
   "cell_type": "code",
   "execution_count": 40,
   "id": "fd6dc7e4",
   "metadata": {
    "execution": {
     "iopub.execute_input": "2024-06-17T06:06:43.206979Z",
     "iopub.status.busy": "2024-06-17T06:06:43.206001Z",
     "iopub.status.idle": "2024-06-17T06:06:43.222680Z",
     "shell.execute_reply": "2024-06-17T06:06:43.221705Z"
    },
    "papermill": {
     "duration": 0.108949,
     "end_time": "2024-06-17T06:06:43.225292",
     "exception": false,
     "start_time": "2024-06-17T06:06:43.116343",
     "status": "completed"
    },
    "tags": []
   },
   "outputs": [],
   "source": [
    "# save the result for submission\n",
    "df_result.to_csv('/kaggle/working/submission.csv',columns=['id', 'target'])"
   ]
  },
  {
   "cell_type": "markdown",
   "id": "6512edc7",
   "metadata": {
    "papermill": {
     "duration": 0.089919,
     "end_time": "2024-06-17T06:06:43.403102",
     "exception": false,
     "start_time": "2024-06-17T06:06:43.313183",
     "status": "completed"
    },
    "tags": []
   },
   "source": [
    "# **Summary**\n",
    "\n",
    "The model was trained with 7000+ tweets using Recurrent Neural Network - LSTM with various hyperparameters and tuning was performed. \n",
    "It was observed that after 5 epochs the validation loss is continuosly increasing which means that there is a good scope for more tuning.\n",
    "The resulting accuracy was around 76%, which was used to generate test result classification. On inspecting the test results, it was found that good amount of tweets were classified correctly."
   ]
  }
 ],
 "metadata": {
  "kaggle": {
   "accelerator": "none",
   "dataSources": [
    {
     "databundleVersionId": 869809,
     "sourceId": 17777,
     "sourceType": "competition"
    }
   ],
   "dockerImageVersionId": 30732,
   "isGpuEnabled": false,
   "isInternetEnabled": false,
   "language": "python",
   "sourceType": "notebook"
  },
  "kernelspec": {
   "display_name": "Python 3",
   "language": "python",
   "name": "python3"
  },
  "language_info": {
   "codemirror_mode": {
    "name": "ipython",
    "version": 3
   },
   "file_extension": ".py",
   "mimetype": "text/x-python",
   "name": "python",
   "nbconvert_exporter": "python",
   "pygments_lexer": "ipython3",
   "version": "3.10.13"
  },
  "papermill": {
   "default_parameters": {},
   "duration": 307.142529,
   "end_time": "2024-06-17T06:06:45.418876",
   "environment_variables": {},
   "exception": null,
   "input_path": "__notebook__.ipynb",
   "output_path": "__notebook__.ipynb",
   "parameters": {},
   "start_time": "2024-06-17T06:01:38.276347",
   "version": "2.5.0"
  }
 },
 "nbformat": 4,
 "nbformat_minor": 5
}
